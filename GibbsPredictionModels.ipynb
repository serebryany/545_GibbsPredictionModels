{
 "cells": [
  {
   "cell_type": "markdown",
   "id": "e9ab5058-2b88-4a9f-8490-ad7b2ad02a79",
   "metadata": {},
   "source": [
    "# **Gibbs Free Energy (ΔG) Prediction Models**"
   ]
  },
  {
   "cell_type": "markdown",
   "id": "b84dd85f-29e2-4737-999c-80941683cded",
   "metadata": {},
   "source": [
    "**Overall goal:** develop and assess supervised machine learning models to predict the Gibbs free energy of solvation (ΔG)\n",
    "\n",
    "**Backround:** ΔG is a crucial property for modeling various chemical processes, including electrochemistry and drug delivery systems.  While traditional methods like quantum mechanics and molecular dynamics have been used extensively for predicting ΔG, machine learning has recently emerged as a popular alternative.  By establishing relationships between molecular structure and activity, machine learning models can effectively predict thermodynamic properties."
   ]
  },
  {
   "cell_type": "code",
   "execution_count": 9,
   "id": "c2f5d0a3-4b76-47ed-82a2-196711b658af",
   "metadata": {},
   "outputs": [],
   "source": [
    "import numpy as np\n",
    "import pandas as pd\n",
    "\n",
    "import seaborn as sns\n",
    "import matplotlib.pyplot as plt\n",
    "\n",
    "from sklearn.model_selection import train_test_split, GridSearchCV, cross_val_score, cross_val_predict\n",
    "from sklearn.preprocessing import StandardScaler\n",
    "from sklearn.linear_model import LinearRegression\n",
    "from sklearn.svm import SVR\n",
    "from sklearn.ensemble import RandomForestRegressor\n",
    "from sklearn.metrics import mean_squared_error, mean_absolute_error\n",
    "from sklearn.inspection import permutation_importance\n",
    "\n"
   ]
  },
  {
   "cell_type": "markdown",
   "id": "2489981f-1384-40eb-8e5e-b3475db54d9b",
   "metadata": {},
   "source": [
    "### Part 1\n",
    "* Load the data\n",
    "* Separate it into features (X) and target variable (y)\n",
    "* Handle any missing values by replacing them with zero"
   ]
  },
  {
   "cell_type": "code",
   "execution_count": 3,
   "id": "704dcd4d-7623-4099-b22d-2dc295e8be9a",
   "metadata": {},
   "outputs": [],
   "source": [
    "# Load the dataset\n",
    "df = pd.read_csv('Gibbs_predictor_545_data_final_2.csv')"
   ]
  },
  {
   "cell_type": "code",
   "execution_count": 4,
   "id": "f64412fc-ed3c-4a17-ac9d-5fe97ac27171",
   "metadata": {},
   "outputs": [],
   "source": [
    "# Separate the features and the target variable and keep only numerical features\n",
    "X = df.drop(columns=['gibbs_free_energy', 'Solvent_Type'])\n",
    "y = df['gibbs_free_energy']\n",
    "\n",
    "# Handle missing values by replacing them with zeros\n",
    "X.fillna(0, inplace=True)\n",
    "y.fillna(0, inplace=True)"
   ]
  },
  {
   "cell_type": "markdown",
   "id": "c7c482d9-8116-4966-bf59-e22a157e2bb2",
   "metadata": {},
   "source": [
    "### Part 2\n",
    "* Divide data into training and testing sets using an 80/20 split\n",
    "* 50/50 split the testing set into validation and final test sets\n",
    "* Define 3 models\n",
    "    * Linear\n",
    "    * SVM: radial basis function (rbf) kernel with a regularization parameter (C) of 10.\n",
    "    * RF: 250 trees, 2 samples to split an internal node, 1 sample at a leaf node, the square root of the total number of features as the maximum number of features considered for splitting a node, and disable bootstrapping.\n",
    "\n",
    "Note: work with these example models as they are, do not try to find better parameters"
   ]
  },
  {
   "cell_type": "code",
   "execution_count": 5,
   "id": "7b525ff8-19ce-4e41-8511-313f7eeef1c7",
   "metadata": {},
   "outputs": [],
   "source": [
    "# Split the data into training and testing sets\n",
    "X_train, X_temp, y_train, y_temp = train_test_split(X, y, test_size=0.2, random_state=42)\n",
    "\n",
    "# Split the test set into validation and testing sets\n",
    "X_val, X_test, y_val, y_test = train_test_split(X_temp, y_temp, test_size=0.5, random_state=42)\n",
    "\n",
    "# Standardize the features\n",
    "scaler = StandardScaler()\n",
    "X_train_scaled = scaler.fit_transform(X_train)\n",
    "X_val_scaled = scaler.transform(X_val)\n",
    "X_test_scaled = scaler.transform(X_test)"
   ]
  },
  {
   "cell_type": "code",
   "execution_count": 6,
   "id": "74d99071-1c86-49dc-b3cd-ba8e19058ba3",
   "metadata": {},
   "outputs": [],
   "source": [
    "# Define the models\n",
    "linear_model = LinearRegression()\n",
    "\n",
    "svm_model = SVR(kernel='rbf', C=10)\n",
    "\n",
    "rf_model = RandomForestRegressor(\n",
    "    n_estimators=250, min_samples_split=2, min_samples_leaf=1,\n",
    "                                 max_features='sqrt', bootstrap=False)\n",
    "\n",
    "# Models dictionary\n",
    "models = {\n",
    "    'Linear Regression': linear_model,\n",
    "    'SVM': svm_model,\n",
    "    'Random Forest': rf_model\n",
    "}"
   ]
  },
  {
   "cell_type": "markdown",
   "id": "8481a3fb-f50e-46ba-992b-d6ae399a2b2c",
   "metadata": {},
   "source": [
    "### Part 3\n",
    "* Model Evaluation\n",
    "* Output a .csv file that has the following columns:\n",
    "    * ```algorithm``` (model) \n",
    "    * ```test_score``` : caluclate from test data\n",
    "    * ```mean absolute error``` : calculate from test data\n",
    "    * ```standard deviaiton of mean absolute errors``` (calculated using 10-fold cross on the validation dataset.)\n",
    "* Plot these 3 metrics for the models in one bar plot."
   ]
  },
  {
   "cell_type": "code",
   "execution_count": 7,
   "id": "8e87fe05-757f-4dc9-9d17-0701adb74afc",
   "metadata": {},
   "outputs": [
    {
     "name": "stdout",
     "output_type": "stream",
     "text": [
      "           algorithm  test_score  mean_absolute_error   std_dev_mae\n",
      "0  Linear Regression    0.819886         1.465408e+10  3.655568e+11\n",
      "1                SVM    0.909262         5.235155e-01  1.050801e+00\n",
      "2      Random Forest    0.957203         5.287144e-01  9.459025e-01\n"
     ]
    }
   ],
   "source": [
    "# Function to evaluate models and save results\n",
    "def evaluate_models(X_train, y_train, X_val, y_val, X_test, y_test, models, output_file='output.csv'):\n",
    "    results = []\n",
    "    \n",
    "    for model_name, model in models.items():\n",
    "        # Train the model\n",
    "        model.fit(X_train, y_train)\n",
    "        \n",
    "        # Get the test score (R²)\n",
    "        test_score = model.score(X_test, y_test)\n",
    "        \n",
    "        # Perform 10-fold cross-validation for mean absolute error and standard deviation\n",
    "        val_predictions = cross_val_predict(model, X_val, y_val, cv=10)\n",
    "        mae = mean_absolute_error(y_val, val_predictions)\n",
    "        mae_std = np.std(np.abs(val_predictions - y_val))\n",
    "        \n",
    "        # Store results\n",
    "        results.append({\n",
    "            'algorithm': model_name,\n",
    "            'test_score': test_score,\n",
    "            'mean_absolute_error': mae,\n",
    "            'std_dev_mae': mae_std\n",
    "        })\n",
    "    \n",
    "    # Create a DataFrame from the results\n",
    "    results_df = pd.DataFrame(results)\n",
    "\n",
    "    # Print the results to the console\n",
    "    print(results_df)\n",
    "    \n",
    "    # Save the results to a CSV file\n",
    "    results_df.to_csv(output_file, index=False)\n",
    "    \n",
    "    return results_df\n",
    "\n",
    "# Evaluate models and save the results\n",
    "results_df = evaluate_models(X_train_scaled, y_train, X_val_scaled, y_val, X_test_scaled, y_test, models)\n",
    "\n"
   ]
  },
  {
   "cell_type": "code",
   "execution_count": 8,
   "id": "833dbb39-3682-4c1b-b675-8dc61eddc9a3",
   "metadata": {},
   "outputs": [
    {
     "data": {
      "image/png": "[encoded data removed]",
      "text/plain": [
       "<Figure size 1400x600 with 2 Axes>"
      ]
     },
     "metadata": {},
     "output_type": "display_data"
    }
   ],
   "source": [
    "\n",
    "# Function to plot the performance metrics\n",
    "def plot_metrics(results_df):\n",
    "    # Metrics to be plotted\n",
    "    metrics = ['test_score', 'mean_absolute_error', 'std_dev_mae']\n",
    "    \n",
    "    # Create a figure with two subplots (2 rows, 1 column)\n",
    "    fig, (ax1, ax2) = plt.subplots(1, 2, figsize=(14, 6))\n",
    "    \n",
    "    # Bar plot (regular scale)\n",
    "    results_df.set_index('algorithm')[metrics].plot(kind='bar', ax=ax1)\n",
    "    ax1.set_ylabel('Score')\n",
    "    ax1.set_title('Model Performance Comparison')\n",
    "    ax1.set_xticklabels(results_df['algorithm'], rotation=0)\n",
    "    \n",
    "    # Log-scale bar plot\n",
    "    results_df.set_index('algorithm')[metrics].plot(kind='bar', ax=ax2)\n",
    "    ax2.set_ylabel('Score (log scale)')\n",
    "    ax2.set_title('Model Performance Comparison (Log Scale)')\n",
    "    ax2.set_xticklabels(results_df['algorithm'], rotation=0)\n",
    "    \n",
    "    # Set log scale on y-axis for the second plot\n",
    "    ax2.set_yscale('log')\n",
    "    \n",
    "    # Adjust layout to avoid overlap\n",
    "    plt.tight_layout()\n",
    "    \n",
    "    # Show the plot\n",
    "    plt.show()\n",
    "\n",
    "# Plot the performance metrics\n",
    "plot_metrics(results_df)\n"
   ]
  },
  {
   "cell_type": "code",
   "execution_count": null,
   "id": "0b0a576a-37fc-49b5-8bbc-ebf4980bb9d0",
   "metadata": {},
   "outputs": [],
   "source": [
    "# Function to calculate permutation feature importance\n",
    "def calculate_permutation_importance(X_train, y_train, models):\n",
    "    importance_results = {}\n",
    "    \n",
    "    for model_name, model in models.items():\n",
    "        # Train the model\n",
    "        model.fit(X_train, y_train)\n",
    "        \n",
    "        # Compute permutation importance\n",
    "        result = permutation_importance(model, X_train, y_train, n_repeats=10, random_state=42)\n",
    "        \n",
    "        # Store the importance values\n",
    "        importance_results[model_name] = result.importances_mean  # Mean importance score\n",
    "    \n",
    "    return importance_results\n",
    "\n",
    "# Function to plot feature importance for all models\n",
    "def plot_feature_importance(importance_results, X_train):\n",
    "    # Create a DataFrame from the importance results\n",
    "    importance_df = pd.DataFrame(importance_results, index=X_train.columns)\n",
    "    \n",
    "    # Plot horizontal bar chart for feature importance\n",
    "    importance_df.plot(kind='barh', figsize=(12, 8))\n",
    "    \n",
    "    # Set labels and title\n",
    "    plt.xlabel('Mean Decrease in Accuracy (Permutation Importance)')\n",
    "    plt.title('Feature Importance for All Models')\n",
    "    plt.tight_layout()\n",
    "    \n",
    "    # Show the plot\n",
    "    plt.show()\n",
    "\n",
    "# Calculate permutation feature importance for all models\n",
    "importance_results = calculate_permutation_importance(X_train_scaled, y_train, models)\n",
    "\n",
    "# Plot the feature importance\n",
    "plot_feature_importance(importance_results, X_train)\n"
   ]
  },
  {
   "cell_type": "code",
   "execution_count": null,
   "id": "375e96e8-3191-4692-9a1a-dea300ce5370",
   "metadata": {},
   "outputs": [],
   "source": []
  }
 ],
 "metadata": {
  "kernelspec": {
   "display_name": "Python 3 (ipykernel)",
   "language": "python",
   "name": "python3"
  },
  "language_info": {
   "codemirror_mode": {
    "name": "ipython",
    "version": 3
   },
   "file_extension": ".py",
   "mimetype": "text/x-python",
   "name": "python",
   "nbconvert_exporter": "python",
   "pygments_lexer": "ipython3",
   "version": "3.11.9"
  }
 },
 "nbformat": 4,
 "nbformat_minor": 5
}
